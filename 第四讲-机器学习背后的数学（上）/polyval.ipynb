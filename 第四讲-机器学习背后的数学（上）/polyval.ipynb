{
 "cells": [
  {
   "cell_type": "code",
   "execution_count": 4,
   "metadata": {},
   "outputs": [
    {
     "name": "stdout",
     "output_type": "stream",
     "text": [
      "[[13.03846877]]\n",
      "[[13.49322471 13.49322471 13.49322471]]\n",
      "[[14.60895146 14.60895146 14.60895146]]\n",
      "(1, 3)\n"
     ]
    }
   ],
   "source": [
    "from sklearn.linear_model import LinearRegression\n",
    "from sklearn.preprocessing import PolynomialFeatures  #生成新特征， 1， x, x**2, x**3...，用这些特征做线性回归\n",
    "import matplotlib.pyplot as plt\n",
    "import numpy as np\n",
    "\n",
    "def gen_data(N):\n",
    "    \n",
    "    x = np.random.exponential(4, size = 1)\n",
    "    x = x.reshape(1, 1)\n",
    "    y = np.polyval(x, [0, 1, 0.1])   + np.sin(x)\n",
    "    #y = np.polyval(x, 0)+ np.sin(x)\n",
    "    y_D = y + np.random.normal(0, 2, N)\n",
    "    return x, y, y_D\n",
    "    \n",
    "x,y, yD = gen_data(1)\n",
    "print (x)\n",
    "print (y)\n",
    "print (yD)\n",
    "print (yD.shape)"
   ]
  },
  {
   "cell_type": "code",
   "execution_count": null,
   "metadata": {},
   "outputs": [],
   "source": []
  }
 ],
 "metadata": {
  "kernelspec": {
   "display_name": "Python 3",
   "language": "python",
   "name": "python3"
  },
  "language_info": {
   "codemirror_mode": {
    "name": "ipython",
    "version": 3
   },
   "file_extension": ".py",
   "mimetype": "text/x-python",
   "name": "python",
   "nbconvert_exporter": "python",
   "pygments_lexer": "ipython3",
   "version": "3.7.3"
  }
 },
 "nbformat": 4,
 "nbformat_minor": 2
}
