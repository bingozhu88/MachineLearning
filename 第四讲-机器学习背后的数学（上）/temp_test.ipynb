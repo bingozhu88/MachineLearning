{
 "cells": [
  {
   "cell_type": "code",
   "execution_count": 50,
   "metadata": {},
   "outputs": [
    {
     "name": "stdout",
     "output_type": "stream",
     "text": [
      "[[4.42588072]\n",
      " [3.30887728]]\n",
      "[-0.81093539  0.68219072]\n",
      "[[3.61494533]\n",
      " [3.991068  ]]\n"
     ]
    }
   ],
   "source": [
    "import numpy as np\n",
    "\n",
    "x = np.random.exponential(4, size = 2)\n",
    "#print (x)\n",
    "x = x.reshape(2, 1)\n",
    "#print (x)\n",
    "y1 = np.polyval(x, 0) + np.sin(x)\n",
    "print (y1)\n",
    "y_N = np.random.normal(0, 2, 2)\n",
    "print (y_N)\n",
    "y_D = y1 + y_N.reshape(-1, 1)#np.random.normal(0, 2, 2)#.reshape(-1, 1)\n",
    "#print (np.sin(x))\n",
    "#y2 = np.polyval(x, [0, 1, 0.1])\n",
    "print (y_D)\n",
    "#print (y2)"
   ]
  },
  {
   "cell_type": "code",
   "execution_count": 11,
   "metadata": {},
   "outputs": [],
   "source": [
    "from sklearn.linear_model import LinearRegression\n",
    "from sklearn.preprocessing import PolynomialFeatures  #生成新特征， 1， x, x**2, x**3...，用这些特征做线性回归"
   ]
  },
  {
   "cell_type": "code",
   "execution_count": 12,
   "metadata": {},
   "outputs": [
    {
     "name": "stdout",
     "output_type": "stream",
     "text": [
      "[[ 1.         16.31336026]\n",
      " [ 1.          1.13323466]\n",
      " [ 1.          1.56899908]\n",
      " [ 1.          9.89013949]\n",
      " [ 1.          7.49575089]\n",
      " [ 1.          0.90790152]\n",
      " [ 1.          4.67433761]\n",
      " [ 1.          7.17225697]\n",
      " [ 1.          5.83098351]\n",
      " [ 1.         12.24110175]\n",
      " [ 1.          0.4716125 ]\n",
      " [ 1.          0.89342657]\n",
      " [ 1.          1.67712385]\n",
      " [ 1.          3.55082127]\n",
      " [ 1.          2.850014  ]\n",
      " [ 1.          3.28509824]\n",
      " [ 1.          0.90610894]\n",
      " [ 1.          1.50068601]\n",
      " [ 1.          2.77143744]\n",
      " [ 1.          3.27764648]]\n"
     ]
    }
   ],
   "source": [
    "x = x.reshape(20, 1)\n",
    "poly = PolynomialFeatures(degree = 1)\n",
    "x_ = poly.fit_transform(x)\n",
    "print (x_)"
   ]
  },
  {
   "cell_type": "code",
   "execution_count": 63,
   "metadata": {},
   "outputs": [
    {
     "name": "stdout",
     "output_type": "stream",
     "text": [
      "[[  1.   6.  36.]\n",
      " [  1.   8.  64.]\n",
      " [  1.  10. 100.]\n",
      " [  1.  14. 196.]\n",
      " [  1.  18. 324.]]\n"
     ]
    },
    {
     "data": {
      "image/png": "[encoded data removed]",
      "text/plain": [
       "<Figure size 432x288 with 1 Axes>"
      ]
     },
     "metadata": {
      "needs_background": "light"
     },
     "output_type": "display_data"
    },
    {
     "data": {
      "text/plain": [
       "\"\\npoly = PolynomialFeatures(degree=2)\\nX = poly.fit_transform(x_)\\n#使用线性回归对X_new进行回归\\nlin_reg2 = LinearRegression()\\nlin_reg2.fit(X, y)\\n#根据线性回归得到预测值\\ny_predect = lin_reg.predict(X)\\n\\nplt.scatter(x_, y)\\nplt.show()\\n\\nplt.scatter(x, y, c='b')\\nplt.scatter(x, y_predect, c='r--')\\n\""
      ]
     },
     "execution_count": 63,
     "metadata": {},
     "output_type": "execute_result"
    }
   ],
   "source": [
    "import numpy as np\n",
    "from sklearn.linear_model import LinearRegression\n",
    "from sklearn.preprocessing import PolynomialFeatures  #生成新特征， 1， x, x**2, x**3...，用这些特征做线性回归\n",
    "import matplotlib.pyplot as plt\n",
    "\n",
    "x_train = [[6], [8], [10], [14], [18]]\n",
    "y_train = [[7], [9], [13], [17.5], [18]]\n",
    "\n",
    "poly2 = PolynomialFeatures(degree=2) # 2次多项式特征生成器\n",
    "x_train_poly2 = poly2.fit_transform(x_train)\n",
    "print (x_train_poly2)\n",
    "\n",
    "\n",
    "x = np.array([6, 8, 10, 14, 18])\n",
    "y = np.array([7, 9, 13, 17.5, 18])\n",
    "x_ = x.reshape(-1, 1)\n",
    "y_ = y.reshape(-1, 1)\n",
    "#print (x_)\n",
    "\n",
    "#一次线性回归的学习与预测\n",
    "#poly1 = PolynomialFeatures(degree=1)\n",
    "#X1 = poly1.fit_transform(x_)\n",
    "lin_reg1 = LinearRegression()\n",
    "lin_reg1.fit(x_, y_)\n",
    "\n",
    "xx1 = np.linspace(0, 25, 100)   # 0到16均匀采集100个点做x轴\n",
    "xx1 = xx1.reshape(xx1.shape[0], 1)\n",
    "#print (xx1)\n",
    "yy1 = lin_reg1.predict(xx1)\n",
    "plt.scatter(x_, y_)   # 画出训练数据的点\n",
    "plt1 = plt.plot(xx1, yy1, label=\"degree=1\")\n",
    "plt.axis([0, 25, 0, 25])\n",
    "plt.xlabel(\"Diameter\")\n",
    "plt.ylabel(\"Price\")\n",
    "plt.legend(loc='upper left')\n",
    "#plt.legend(handles=[plt1])\n",
    "plt.show()\n",
    "\n",
    "\n",
    "\n",
    "\n"
   ]
  },
  {
   "cell_type": "code",
   "execution_count": 65,
   "metadata": {},
   "outputs": [
    {
     "data": {
      "image/png": "[encoded data removed]",
      "text/plain": [
       "<Figure size 432x288 with 1 Axes>"
      ]
     },
     "metadata": {
      "needs_background": "light"
     },
     "output_type": "display_data"
    }
   ],
   "source": [
    "poly2 = PolynomialFeatures(degree=2)\n",
    "X = poly2.fit_transform(x_)\n",
    "\n",
    "#建立模型预测\n",
    "lin_reg2 = LinearRegression()\n",
    "lin_reg2.fit(X, y_)\n",
    "\n",
    "#画出2次线性回归的图\n",
    "XX =poly2.fit_transform(xx1)\n",
    "yy2 = lin_reg2.predict(XX)\n",
    "\n",
    "plt.scatter(x_, y_)   # 画出训练数据的点\n",
    "plt1 = plt.plot(xx1, yy1, label=\"degree=1\")\n",
    "plt2 = plt.plot(xx1, yy2, label=\"degree=2\", c= 'r')\n",
    "\n",
    "plt.axis([0, 25, 0, 25])\n",
    "plt.xlabel(\"Diameter\")\n",
    "plt.ylabel(\"Price\")\n",
    "plt.legend(loc='upper left')\n",
    "plt.show()\n",
    "\n"
   ]
  },
  {
   "cell_type": "code",
   "execution_count": null,
   "metadata": {},
   "outputs": [],
   "source": []
  }
 ],
 "metadata": {
  "kernelspec": {
   "display_name": "Python 3",
   "language": "python",
   "name": "python3"
  },
  "language_info": {
   "codemirror_mode": {
    "name": "ipython",
    "version": 3
   },
   "file_extension": ".py",
   "mimetype": "text/x-python",
   "name": "python",
   "nbconvert_exporter": "python",
   "pygments_lexer": "ipython3",
   "version": "3.7.3"
  }
 },
 "nbformat": 4,
 "nbformat_minor": 2
}
