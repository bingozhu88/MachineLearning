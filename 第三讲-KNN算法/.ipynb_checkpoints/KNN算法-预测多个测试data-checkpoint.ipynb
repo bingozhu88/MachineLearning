{
 "cells": [
  {
   "cell_type": "code",
   "execution_count": 4,
   "metadata": {},
   "outputs": [],
   "source": [
    "import numpy as np\n",
    "import matplotlib.pyplot as plt\n"
   ]
  },
  {
   "cell_type": "code",
   "execution_count": 2,
   "metadata": {},
   "outputs": [],
   "source": [
    "#录入数据集（此处为人模拟的数据集），X第一列为肿瘤大小，第二列为肿瘤时间，y为肿瘤性质良好还是恶性\n",
    "\n",
    "raw_data_X = [[3.393533211, 2.331273381],\n",
    "              [3.110073273, 1.786360121],\n",
    "              [1.343892307, 3.362874429],\n",
    "              [3.580243273, 4.671037091],\n",
    "              [2.274392744, 2.873335573],\n",
    "              [7.474390402, 4.673011339],\n",
    "              [5.772024290, 3.560262131],\n",
    "              [9.122354845, 2.568264233],\n",
    "              [7.722344298, 3.479979792],\n",
    "              [7.978408784, 0.773246244]\n",
    "             ]\n",
    "raw_data_y = [0, 0, 0, 0, 0, 1, 1, 1, 1, 1]"
   ]
  },
  {
   "cell_type": "code",
   "execution_count": 8,
   "metadata": {},
   "outputs": [
    {
     "data": {
      "image/png": "[encoded data removed]",
      "text/plain": [
       "<Figure size 432x288 with 1 Axes>"
      ]
     },
     "metadata": {
      "needs_background": "light"
     },
     "output_type": "display_data"
    }
   ],
   "source": [
    "#转为向量传入训练集\n",
    "X_train = np.array(raw_data_X)\n",
    "y_train = np.array(raw_data_y)\n",
    "#print (X_train)\n",
    "#print (y_train)\n",
    "\n",
    "#绘制散点图\n",
    "plt.scatter(X_train[y_train == 0,0], X_train[y_train == 0,1], c='g', marker='o', label='0')\n",
    "plt.scatter(X_train[y_train == 1,0], X_train[y_train == 1,1], c='r', marker='x', label='1')\n",
    "plt.xlabel('size')\n",
    "plt.ylabel('time')\n",
    "plt.legend(loc='upper left')\n",
    "plt.show()"
   ]
  },
  {
   "cell_type": "code",
   "execution_count": 26,
   "metadata": {},
   "outputs": [
    {
     "name": "stdout",
     "output_type": "stream",
     "text": [
      "[[5 3]\n",
      " [6 4]]\n",
      "2\n"
     ]
    },
    {
     "data": {
      "image/png": "[encoded data removed]",
      "text/plain": [
       "<Figure size 432x288 with 1 Axes>"
      ]
     },
     "metadata": {
      "needs_background": "light"
     },
     "output_type": "display_data"
    }
   ],
   "source": [
    "#要预测的点\n",
    "x = [[5, 3],\n",
    "     [6, 4]\n",
    "    ]\n",
    "x_test = np.array(x)\n",
    "print (x_test)\n",
    "print (x_test.shape[0])\n",
    "#print (x_pre[0])\n",
    "#print (x_pre[:,0])\n",
    "\n",
    "#图中观测\n",
    "plt.scatter(X_train[y_train == 0,0], X_train[y_train == 0,1], c='g', marker='o', label='良性')\n",
    "plt.scatter(X_train[y_train == 1,0], X_train[y_train == 1,1], c='r', marker='x', label='恶性')\n",
    "plt.scatter(x_test[:,0], x_test[:,1])  #不能写成plt.scatter(x_pre[0], x_pre[1])\n",
    "plt.xlabel('size')\n",
    "plt.ylabel('time')\n",
    "plt.show()"
   ]
  },
  {
   "cell_type": "markdown",
   "metadata": {},
   "source": [
    "## KNN过程 "
   ]
  },
  {
   "cell_type": "code",
   "execution_count": 28,
   "metadata": {},
   "outputs": [
    {
     "name": "stdout",
     "output_type": "stream",
     "text": [
      "[1.740095064966033, 2.246050932042296, 3.6740714900551215, 2.1927321139070988, 2.728548843438044, 2.986900534321874, 0.9538947320237519, 4.144901113488964, 2.764333387560458, 3.718783561121629]\n",
      "[3.094885725050142, 3.6403128988217577, 4.699496551976164, 2.511078134061044, 3.8922387076112237, 1.620731723615076, 0.4953204193072049, 3.4349624575243984, 1.799136153152806, 3.7849757090988665]\n",
      "[[1.740095064966033, 2.246050932042296, 3.6740714900551215, 2.1927321139070988, 2.728548843438044, 2.986900534321874, 0.9538947320237519, 4.144901113488964, 2.764333387560458, 3.718783561121629], [3.094885725050142, 3.6403128988217577, 4.699496551976164, 2.511078134061044, 3.8922387076112237, 1.620731723615076, 0.4953204193072049, 3.4349624575243984, 1.799136153152806, 3.7849757090988665]]\n"
     ]
    }
   ],
   "source": [
    "#求距离\n",
    "\n",
    "from math import sqrt\n",
    "\n",
    "#distance = []\n",
    "all_distance = []\n",
    "for i in range(x_test.shape[0]):\n",
    "    #print (i)\n",
    "    distance = []\n",
    "    for x_train in X_train:\n",
    "        d = sqrt(np.sum((x_train - x_test[i])**2))\n",
    "        distance.append(d)\n",
    "    print (distance)\n",
    "    all_distance.append(distance)\n",
    "print (all_distance)\n",
    "\n",
    "\n",
    "        \n",
    "    \n"
   ]
  },
  {
   "cell_type": "code",
   "execution_count": 30,
   "metadata": {},
   "outputs": [
    {
     "name": "stdout",
     "output_type": "stream",
     "text": [
      "[6 0 3 1 4 8 5 2 9 7]\n",
      "[6 5 8 3 0 7 1 9 4 2]\n",
      "[array([6, 0, 3, 1, 4, 8, 5, 2, 9, 7], dtype=int64), array([6, 5, 8, 3, 0, 7, 1, 9, 4, 2], dtype=int64)]\n"
     ]
    }
   ],
   "source": [
    "nearest_list = []\n",
    "for dis in all_distance:\n",
    "    nearest = np.argsort(dis)\n",
    "    nearest_list.append(nearest)\n",
    "    print (nearest)\n",
    "print (nearest_list)"
   ]
  },
  {
   "cell_type": "code",
   "execution_count": 31,
   "metadata": {},
   "outputs": [
    {
     "name": "stdout",
     "output_type": "stream",
     "text": [
      "[1, 0, 0, 0, 0, 1]\n",
      "[1, 1, 1, 0, 0, 1]\n",
      "[[1, 0, 0, 0, 0, 1], [1, 1, 1, 0, 0, 1]]\n"
     ]
    }
   ],
   "source": [
    "#令k = 6 思考：如何求最优 k\n",
    "\n",
    "k = 6\n",
    "TOP_K = []\n",
    "for near in nearest_list:\n",
    "    top_k = []\n",
    "    for i in near[:6]:\n",
    "        top_k.append(y_train[i])\n",
    "    print (top_k)\n",
    "    TOP_K.append(top_k)\n",
    "print (TOP_K)"
   ]
  },
  {
   "cell_type": "code",
   "execution_count": 35,
   "metadata": {},
   "outputs": [
    {
     "name": "stdout",
     "output_type": "stream",
     "text": [
      "Counter({0: 4, 1: 2})\n",
      "[(0, 4)]\n",
      "0\n",
      "Counter({1: 4, 0: 2})\n",
      "[(1, 4)]\n",
      "1\n"
     ]
    }
   ],
   "source": [
    "#求投票结果（每种结果各有多少个，比例）\n",
    "from collections import Counter\n",
    "\n",
    "VOTES = []\n",
    "for top in TOP_K:\n",
    "    votes = Counter(top)\n",
    "    VOTES.append(votes.most_common(1))\n",
    "    print (votes)\n",
    "    print (votes.most_common(1))\n",
    "    #print (votes.most_common(2))\n",
    "    predict_y1 = votes.most_common(1)[0][0]\n",
    "    #predict_y2 = votes.most_common(2)[0][0]\n",
    "    print (predict_y1)\n",
    "    #print (predict_y1)\n",
    "    \n",
    "#print (VOTES)"
   ]
  },
  {
   "cell_type": "code",
   "execution_count": null,
   "metadata": {},
   "outputs": [],
   "source": []
  }
 ],
 "metadata": {
  "kernelspec": {
   "display_name": "Python 3",
   "language": "python",
   "name": "python3"
  },
  "language_info": {
   "codemirror_mode": {
    "name": "ipython",
    "version": 3
   },
   "file_extension": ".py",
   "mimetype": "text/x-python",
   "name": "python",
   "nbconvert_exporter": "python",
   "pygments_lexer": "ipython3",
   "version": "3.7.3"
  }
 },
 "nbformat": 4,
 "nbformat_minor": 2
}
