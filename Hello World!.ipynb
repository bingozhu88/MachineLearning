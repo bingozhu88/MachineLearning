{
 "cells": [
  {
   "cell_type": "code",
   "execution_count": 72,
   "metadata": {},
   "outputs": [],
   "source": [
    "import numpy as np\n",
    "import pandas as pd\n",
    "import matplotlib.pyplot as plt\n",
    "from IPython.display import Image\n",
    "import warnings\n",
    "warnings.filterwarnings('ignore')\n",
    "\n",
    "#内嵌画图\n",
    "%matplotlib inline"
   ]
  },
  {
   "cell_type": "markdown",
   "metadata": {},
   "source": [
    "使用%matplotlib命令可以将matplotlib的图表直接嵌入到Notebook之中，或者使用指定的界面库显示图表，它有一个参数指定matplotlib图表的显示方式。inline表示将图表嵌入到Notebook中。\n",
    "Python提供了许多魔法命令，使得在IPython环境中的操作更加得心应手。魔法命令都以%或者%%开头，以%开头的成为行命令，%%开头的称为单元命令。行命令只对命令所在的行有效，而单元命令则必须出现在单元的第一行，对整个单元的代码进行处理。"
   ]
  },
  {
   "cell_type": "code",
   "execution_count": 73,
   "metadata": {
    "scrolled": true
   },
   "outputs": [
    {
     "name": "stdout",
     "output_type": "stream",
     "text": [
      "(17000, 9) (17000, 9)\n"
     ]
    },
    {
     "data": {
      "text/html": [
       "<div>\n",
       "<style scoped>\n",
       "    .dataframe tbody tr th:only-of-type {\n",
       "        vertical-align: middle;\n",
       "    }\n",
       "\n",
       "    .dataframe tbody tr th {\n",
       "        vertical-align: top;\n",
       "    }\n",
       "\n",
       "    .dataframe thead th {\n",
       "        text-align: right;\n",
       "    }\n",
       "</style>\n",
       "<table border=\"1\" class=\"dataframe\">\n",
       "  <thead>\n",
       "    <tr style=\"text-align: right;\">\n",
       "      <th></th>\n",
       "      <th>longitude</th>\n",
       "      <th>latitude</th>\n",
       "      <th>housing_median_age</th>\n",
       "      <th>total_rooms</th>\n",
       "      <th>total_bedrooms</th>\n",
       "      <th>population</th>\n",
       "      <th>households</th>\n",
       "      <th>median_income</th>\n",
       "      <th>median_house_value</th>\n",
       "    </tr>\n",
       "  </thead>\n",
       "  <tbody>\n",
       "    <tr>\n",
       "      <th>0</th>\n",
       "      <td>-114.31</td>\n",
       "      <td>34.19</td>\n",
       "      <td>15.0</td>\n",
       "      <td>5612.0</td>\n",
       "      <td>1283.0</td>\n",
       "      <td>1015.0</td>\n",
       "      <td>472.0</td>\n",
       "      <td>1.4936</td>\n",
       "      <td>66900.0</td>\n",
       "    </tr>\n",
       "    <tr>\n",
       "      <th>1</th>\n",
       "      <td>-114.47</td>\n",
       "      <td>34.40</td>\n",
       "      <td>19.0</td>\n",
       "      <td>7650.0</td>\n",
       "      <td>1901.0</td>\n",
       "      <td>1129.0</td>\n",
       "      <td>463.0</td>\n",
       "      <td>1.8200</td>\n",
       "      <td>80100.0</td>\n",
       "    </tr>\n",
       "    <tr>\n",
       "      <th>2</th>\n",
       "      <td>-114.56</td>\n",
       "      <td>33.69</td>\n",
       "      <td>17.0</td>\n",
       "      <td>720.0</td>\n",
       "      <td>174.0</td>\n",
       "      <td>333.0</td>\n",
       "      <td>117.0</td>\n",
       "      <td>1.6509</td>\n",
       "      <td>85700.0</td>\n",
       "    </tr>\n",
       "    <tr>\n",
       "      <th>3</th>\n",
       "      <td>-114.57</td>\n",
       "      <td>33.64</td>\n",
       "      <td>14.0</td>\n",
       "      <td>1501.0</td>\n",
       "      <td>337.0</td>\n",
       "      <td>515.0</td>\n",
       "      <td>226.0</td>\n",
       "      <td>3.1917</td>\n",
       "      <td>73400.0</td>\n",
       "    </tr>\n",
       "    <tr>\n",
       "      <th>4</th>\n",
       "      <td>-114.57</td>\n",
       "      <td>33.57</td>\n",
       "      <td>20.0</td>\n",
       "      <td>1454.0</td>\n",
       "      <td>326.0</td>\n",
       "      <td>624.0</td>\n",
       "      <td>262.0</td>\n",
       "      <td>1.9250</td>\n",
       "      <td>65500.0</td>\n",
       "    </tr>\n",
       "  </tbody>\n",
       "</table>\n",
       "</div>"
      ],
      "text/plain": [
       "   longitude  latitude  housing_median_age  total_rooms  total_bedrooms  \\\n",
       "0    -114.31     34.19                15.0       5612.0          1283.0   \n",
       "1    -114.47     34.40                19.0       7650.0          1901.0   \n",
       "2    -114.56     33.69                17.0        720.0           174.0   \n",
       "3    -114.57     33.64                14.0       1501.0           337.0   \n",
       "4    -114.57     33.57                20.0       1454.0           326.0   \n",
       "\n",
       "   population  households  median_income  median_house_value  \n",
       "0      1015.0       472.0         1.4936             66900.0  \n",
       "1      1129.0       463.0         1.8200             80100.0  \n",
       "2       333.0       117.0         1.6509             85700.0  \n",
       "3       515.0       226.0         3.1917             73400.0  \n",
       "4       624.0       262.0         1.9250             65500.0  "
      ]
     },
     "execution_count": 73,
     "metadata": {},
     "output_type": "execute_result"
    }
   ],
   "source": [
    "data = pd.read_csv('california_housing_train.csv')\n",
    "print (data.shape, data.shape)\n",
    "data.head()"
   ]
  },
  {
   "cell_type": "markdown",
   "metadata": {},
   "source": [
    "#选择数据集合中的几个重要特征"
   ]
  },
  {
   "cell_type": "code",
   "execution_count": 74,
   "metadata": {},
   "outputs": [
    {
     "data": {
      "text/html": [
       "<div>\n",
       "<style scoped>\n",
       "    .dataframe tbody tr th:only-of-type {\n",
       "        vertical-align: middle;\n",
       "    }\n",
       "\n",
       "    .dataframe tbody tr th {\n",
       "        vertical-align: top;\n",
       "    }\n",
       "\n",
       "    .dataframe thead th {\n",
       "        text-align: right;\n",
       "    }\n",
       "</style>\n",
       "<table border=\"1\" class=\"dataframe\">\n",
       "  <thead>\n",
       "    <tr style=\"text-align: right;\">\n",
       "      <th></th>\n",
       "      <th>house_age</th>\n",
       "      <th>total_rooms</th>\n",
       "      <th>house_value</th>\n",
       "    </tr>\n",
       "  </thead>\n",
       "  <tbody>\n",
       "    <tr>\n",
       "      <th>0</th>\n",
       "      <td>0.288462</td>\n",
       "      <td>0.147929</td>\n",
       "      <td>0.1338</td>\n",
       "    </tr>\n",
       "    <tr>\n",
       "      <th>1</th>\n",
       "      <td>0.365385</td>\n",
       "      <td>0.201650</td>\n",
       "      <td>0.1602</td>\n",
       "    </tr>\n",
       "    <tr>\n",
       "      <th>2</th>\n",
       "      <td>0.326923</td>\n",
       "      <td>0.018979</td>\n",
       "      <td>0.1714</td>\n",
       "    </tr>\n",
       "    <tr>\n",
       "      <th>3</th>\n",
       "      <td>0.269231</td>\n",
       "      <td>0.039566</td>\n",
       "      <td>0.1468</td>\n",
       "    </tr>\n",
       "    <tr>\n",
       "      <th>4</th>\n",
       "      <td>0.384615</td>\n",
       "      <td>0.038327</td>\n",
       "      <td>0.1310</td>\n",
       "    </tr>\n",
       "  </tbody>\n",
       "</table>\n",
       "</div>"
      ],
      "text/plain": [
       "   house_age  total_rooms  house_value\n",
       "0   0.288462     0.147929       0.1338\n",
       "1   0.365385     0.201650       0.1602\n",
       "2   0.326923     0.018979       0.1714\n",
       "3   0.269231     0.039566       0.1468\n",
       "4   0.384615     0.038327       0.1310"
      ]
     },
     "execution_count": 74,
     "metadata": {},
     "output_type": "execute_result"
    }
   ],
   "source": [
    "data_select = data[['housing_median_age','total_rooms','median_house_value']]\n",
    "data_select = data_select.rename(columns = {'housing_median_age': 'house_age','median_house_value':'house_value'})\n",
    "data_select = data_select.dropna(axis = 0)  #删除缺失数据（Nan）,axis = 0 表示删除行，axis = 1表示删除列，但是一般不删除列，列往往代表一个变量\n",
    "for col in np.take(data_select.columns,[0,1,2]):\n",
    "    data_select[col] /= data_select[col].max()\n",
    "data_select.head() "
   ]
  },
  {
   "cell_type": "markdown",
   "metadata": {},
   "source": [
    "#三维张量，[[[0.288462,0.147929,0.1338],[0.365385,0.201650,0.1602]......]]"
   ]
  },
  {
   "cell_type": "code",
   "execution_count": 75,
   "metadata": {},
   "outputs": [
    {
     "data": {
      "text/html": [
       "<div>\n",
       "<style scoped>\n",
       "    .dataframe tbody tr th:only-of-type {\n",
       "        vertical-align: middle;\n",
       "    }\n",
       "\n",
       "    .dataframe tbody tr th {\n",
       "        vertical-align: top;\n",
       "    }\n",
       "\n",
       "    .dataframe thead th {\n",
       "        text-align: right;\n",
       "    }\n",
       "</style>\n",
       "<table border=\"1\" class=\"dataframe\">\n",
       "  <thead>\n",
       "    <tr style=\"text-align: right;\">\n",
       "      <th></th>\n",
       "      <th>house_age</th>\n",
       "      <th>total_rooms</th>\n",
       "      <th>house_value</th>\n",
       "    </tr>\n",
       "  </thead>\n",
       "  <tbody>\n",
       "    <tr>\n",
       "      <th>count</th>\n",
       "      <td>1700.000000</td>\n",
       "      <td>1700.000000</td>\n",
       "      <td>1700.000000</td>\n",
       "    </tr>\n",
       "    <tr>\n",
       "      <th>mean</th>\n",
       "      <td>0.556686</td>\n",
       "      <td>0.069358</td>\n",
       "      <td>0.409387</td>\n",
       "    </tr>\n",
       "    <tr>\n",
       "      <th>std</th>\n",
       "      <td>0.243560</td>\n",
       "      <td>0.056015</td>\n",
       "      <td>0.227730</td>\n",
       "    </tr>\n",
       "    <tr>\n",
       "      <th>min</th>\n",
       "      <td>0.038462</td>\n",
       "      <td>0.000395</td>\n",
       "      <td>0.082000</td>\n",
       "    </tr>\n",
       "    <tr>\n",
       "      <th>25%</th>\n",
       "      <td>0.346154</td>\n",
       "      <td>0.038439</td>\n",
       "      <td>0.237600</td>\n",
       "    </tr>\n",
       "    <tr>\n",
       "      <th>50%</th>\n",
       "      <td>0.557692</td>\n",
       "      <td>0.056053</td>\n",
       "      <td>0.352899</td>\n",
       "    </tr>\n",
       "    <tr>\n",
       "      <th>75%</th>\n",
       "      <td>0.730769</td>\n",
       "      <td>0.082861</td>\n",
       "      <td>0.522049</td>\n",
       "    </tr>\n",
       "    <tr>\n",
       "      <th>max</th>\n",
       "      <td>1.000000</td>\n",
       "      <td>0.577194</td>\n",
       "      <td>1.000000</td>\n",
       "    </tr>\n",
       "  </tbody>\n",
       "</table>\n",
       "</div>"
      ],
      "text/plain": [
       "         house_age  total_rooms  house_value\n",
       "count  1700.000000  1700.000000  1700.000000\n",
       "mean      0.556686     0.069358     0.409387\n",
       "std       0.243560     0.056015     0.227730\n",
       "min       0.038462     0.000395     0.082000\n",
       "25%       0.346154     0.038439     0.237600\n",
       "50%       0.557692     0.056053     0.352899\n",
       "75%       0.730769     0.082861     0.522049\n",
       "max       1.000000     0.577194     1.000000"
      ]
     },
     "execution_count": 75,
     "metadata": {},
     "output_type": "execute_result"
    }
   ],
   "source": [
    "from sklearn.model_selection import train_test_split\n",
    "train, test = train_test_split(data_select.copy(), test_size = 0.9)\n",
    "train.describe()"
   ]
  },
  {
   "cell_type": "code",
   "execution_count": 76,
   "metadata": {
    "scrolled": false
   },
   "outputs": [
    {
     "data": {
      "text/html": [
       "<div>\n",
       "<style scoped>\n",
       "    .dataframe tbody tr th:only-of-type {\n",
       "        vertical-align: middle;\n",
       "    }\n",
       "\n",
       "    .dataframe tbody tr th {\n",
       "        vertical-align: top;\n",
       "    }\n",
       "\n",
       "    .dataframe thead th {\n",
       "        text-align: right;\n",
       "    }\n",
       "</style>\n",
       "<table border=\"1\" class=\"dataframe\">\n",
       "  <thead>\n",
       "    <tr style=\"text-align: right;\">\n",
       "      <th></th>\n",
       "      <th>house_age</th>\n",
       "      <th>total_rooms</th>\n",
       "      <th>house_value</th>\n",
       "    </tr>\n",
       "  </thead>\n",
       "  <tbody>\n",
       "    <tr>\n",
       "      <th>count</th>\n",
       "      <td>4.000000</td>\n",
       "      <td>4.000000</td>\n",
       "      <td>4.000000</td>\n",
       "    </tr>\n",
       "    <tr>\n",
       "      <th>mean</th>\n",
       "      <td>0.326923</td>\n",
       "      <td>0.106868</td>\n",
       "      <td>0.142950</td>\n",
       "    </tr>\n",
       "    <tr>\n",
       "      <th>std</th>\n",
       "      <td>0.056614</td>\n",
       "      <td>0.081440</td>\n",
       "      <td>0.013403</td>\n",
       "    </tr>\n",
       "    <tr>\n",
       "      <th>min</th>\n",
       "      <td>0.269231</td>\n",
       "      <td>0.038327</td>\n",
       "      <td>0.131000</td>\n",
       "    </tr>\n",
       "    <tr>\n",
       "      <th>25%</th>\n",
       "      <td>0.283654</td>\n",
       "      <td>0.039256</td>\n",
       "      <td>0.133100</td>\n",
       "    </tr>\n",
       "    <tr>\n",
       "      <th>50%</th>\n",
       "      <td>0.326923</td>\n",
       "      <td>0.093748</td>\n",
       "      <td>0.140300</td>\n",
       "    </tr>\n",
       "    <tr>\n",
       "      <th>75%</th>\n",
       "      <td>0.370192</td>\n",
       "      <td>0.161360</td>\n",
       "      <td>0.150150</td>\n",
       "    </tr>\n",
       "    <tr>\n",
       "      <th>max</th>\n",
       "      <td>0.384615</td>\n",
       "      <td>0.201650</td>\n",
       "      <td>0.160200</td>\n",
       "    </tr>\n",
       "  </tbody>\n",
       "</table>\n",
       "</div>"
      ],
      "text/plain": [
       "       house_age  total_rooms  house_value\n",
       "count   4.000000     4.000000     4.000000\n",
       "mean    0.326923     0.106868     0.142950\n",
       "std     0.056614     0.081440     0.013403\n",
       "min     0.269231     0.038327     0.131000\n",
       "25%     0.283654     0.039256     0.133100\n",
       "50%     0.326923     0.093748     0.140300\n",
       "75%     0.370192     0.161360     0.150150\n",
       "max     0.384615     0.201650     0.160200"
      ]
     },
     "execution_count": 76,
     "metadata": {},
     "output_type": "execute_result"
    }
   ],
   "source": [
    "data_sample = data_select.head()\n",
    "train_sample, test_sample = train_test_split(data_sample.copy(), test_size = 0.2)\n",
    "train_sample.describe()"
   ]
  },
  {
   "cell_type": "markdown",
   "metadata": {},
   "source": [
    "# 暴力搜索"
   ]
  },
  {
   "cell_type": "code",
   "execution_count": 77,
   "metadata": {},
   "outputs": [],
   "source": [
    "#模型函数\n",
    "def linear(features, pars):\n",
    "    price = np.sum(features*pars[:-1], axis = 1) + pars[-1] \n",
    "    return price"
   ]
  },
  {
   "cell_type": "markdown",
   "metadata": {},
   "source": [
    "axis = 1表示第二层相加，如：\n",
    "np.array([[[1,2],[3,4]],[[11,12],[13,14]]])\n",
    "a.sum(axis = 0)\n",
    "输出结果：array([[12, 14], [16, 18]])\n",
    "a.sum(axis = 1)\n",
    "输出结果：array([[4, 6], [24, 26]])\n",
    "a.sum(axis = 2)\n",
    "输出结果：array([[3, 7], [23, 27]])\n",
    "具体可参考;https://blog.csdn.net/sky_kkk/article/details/79725646"
   ]
  },
  {
   "cell_type": "code",
   "execution_count": 78,
   "metadata": {},
   "outputs": [
    {
     "data": {
      "text/html": [
       "<div>\n",
       "<style scoped>\n",
       "    .dataframe tbody tr th:only-of-type {\n",
       "        vertical-align: middle;\n",
       "    }\n",
       "\n",
       "    .dataframe tbody tr th {\n",
       "        vertical-align: top;\n",
       "    }\n",
       "\n",
       "    .dataframe thead th {\n",
       "        text-align: right;\n",
       "    }\n",
       "</style>\n",
       "<table border=\"1\" class=\"dataframe\">\n",
       "  <thead>\n",
       "    <tr style=\"text-align: right;\">\n",
       "      <th></th>\n",
       "      <th>house_age</th>\n",
       "      <th>total_rooms</th>\n",
       "      <th>house_value</th>\n",
       "      <th>predict</th>\n",
       "    </tr>\n",
       "  </thead>\n",
       "  <tbody>\n",
       "    <tr>\n",
       "      <th>8147</th>\n",
       "      <td>0.384615</td>\n",
       "      <td>0.121254</td>\n",
       "      <td>1.000000</td>\n",
       "      <td>0.050587</td>\n",
       "    </tr>\n",
       "    <tr>\n",
       "      <th>9747</th>\n",
       "      <td>0.326923</td>\n",
       "      <td>0.033740</td>\n",
       "      <td>0.212600</td>\n",
       "      <td>0.036066</td>\n",
       "    </tr>\n",
       "    <tr>\n",
       "      <th>8135</th>\n",
       "      <td>0.807692</td>\n",
       "      <td>0.034083</td>\n",
       "      <td>0.935198</td>\n",
       "      <td>0.084178</td>\n",
       "    </tr>\n",
       "    <tr>\n",
       "      <th>6309</th>\n",
       "      <td>0.673077</td>\n",
       "      <td>0.037035</td>\n",
       "      <td>0.179600</td>\n",
       "      <td>0.071011</td>\n",
       "    </tr>\n",
       "    <tr>\n",
       "      <th>11659</th>\n",
       "      <td>0.500000</td>\n",
       "      <td>0.004244</td>\n",
       "      <td>0.324999</td>\n",
       "      <td>0.050424</td>\n",
       "    </tr>\n",
       "  </tbody>\n",
       "</table>\n",
       "</div>"
      ],
      "text/plain": [
       "       house_age  total_rooms  house_value   predict\n",
       "8147    0.384615     0.121254     1.000000  0.050587\n",
       "9747    0.326923     0.033740     0.212600  0.036066\n",
       "8135    0.807692     0.034083     0.935198  0.084178\n",
       "6309    0.673077     0.037035     0.179600  0.071011\n",
       "11659   0.500000     0.004244     0.324999  0.050424"
      ]
     },
     "execution_count": 78,
     "metadata": {},
     "output_type": "execute_result"
    }
   ],
   "source": [
    "#par1 = 0.1, par2 = 0.1\n",
    "train['predict'] = linear(train[['house_age','total_rooms']].values, np.array([0.1, 0.1, 0]))\n",
    "#注意二维张量train[['house_age','total_rooms']]，类似一个邮箱组里多个人的邮件，人是一个维度，邮箱组又是一个维度，所以是两个维度\n",
    "\n",
    "train.head()"
   ]
  },
  {
   "cell_type": "markdown",
   "metadata": {},
   "source": [
    "# 代价函数"
   ]
  },
  {
   "cell_type": "code",
   "execution_count": 79,
   "metadata": {},
   "outputs": [
    {
     "name": "stdout",
     "output_type": "stream",
     "text": [
      "1700\n",
      "0.17100140202963426\n",
      "290.70238345037825\n"
     ]
    }
   ],
   "source": [
    "def mean_squared_error(y_pred, y):\n",
    "    return sum(np.array(y_pred - y )**2)\n",
    "\n",
    "def Cost(df, features, pars):\n",
    "    df['predict'] = linear(df[features].values, pars)\n",
    "    cost = mean_squared_error(df.predict, df.house_value)/len(df)\n",
    "    return cost\n",
    "\n",
    "cost = Cost(train, ['house_age','total_rooms'], np.array([0.1, 0.1, 0.0]))\n",
    "print (len(train))\n",
    "print (cost)\n",
    "print (1700*cost)"
   ]
  },
  {
   "cell_type": "markdown",
   "metadata": {},
   "source": [
    "# 暴力搜索"
   ]
  },
  {
   "cell_type": "code",
   "execution_count": 80,
   "metadata": {},
   "outputs": [
    {
     "data": {
      "text/plain": [
       "((100, 100), (100, 100))"
      ]
     },
     "execution_count": 80,
     "metadata": {},
     "output_type": "execute_result"
    }
   ],
   "source": [
    "Xs = np.linspace(0, 1, 100)\n",
    "Ys = np.linspace(0, 1, 100)\n",
    "Zs = np.zeros([100,100])\n",
    "\n",
    "Xs, Ys = np.meshgrid(Xs, Ys)\n",
    "Xs.shape, Ys.shape"
   ]
  },
  {
   "cell_type": "code",
   "execution_count": 81,
   "metadata": {},
   "outputs": [
    {
     "name": "stdout",
     "output_type": "stream",
     "text": [
      "0.54 0.99 0.057889308825393775\n"
     ]
    }
   ],
   "source": [
    "W1 = []\n",
    "W2 = []\n",
    "Costs = []\n",
    "for i in range(100):\n",
    "    for j in range(100):\n",
    "        W1.append(0.01*i)\n",
    "        W2.append(0.01*j)\n",
    "        Costs.append(Cost(train, ['house_age','total_rooms'], np.array([0.01*i, 0.01*j, 0.])))\n",
    "#默认将输入数组展平。否则，按照axis方向\n",
    "#按每列求出最小值的索引 axis=0\n",
    "#按每行求出最小值的索引 axis=1\n",
    "index = np.array(Costs).argmin()\n",
    "print (W1[index], W2[index], Costs[index])"
   ]
  },
  {
   "cell_type": "code",
   "execution_count": 82,
   "metadata": {
    "scrolled": true
   },
   "outputs": [
    {
     "data": {
      "text/plain": [
       "Text(0.5, 0, 'total_rooms')"
      ]
     },
     "execution_count": 82,
     "metadata": {},
     "output_type": "execute_result"
    },
    {
     "data": {
      "image/png": "[encoded data removed]",
      "text/plain": [
       "<Figure size 432x288 with 1 Axes>"
      ]
     },
     "metadata": {
      "needs_background": "light"
     },
     "output_type": "display_data"
    }
   ],
   "source": [
    "from mpl_toolkits.mplot3d import Axes3D\n",
    "fig = plt.figure()\n",
    "ax = fig.add_subplot(111, projection = '3d')\n",
    "ax.view_init(0, -15) #ax.view_init(elev=elev,azim=azim),改变绘制图像的视角,即相机的位置,azim沿着z轴旋转，elev沿着y轴\n",
    "ax.scatter(W1, W2, Costs, s = 10) #画散点图，传入参数：数据，点的大小（可以随x大小变化），点的颜色等\n",
    "ax.scatter(0.58, 0.28, zs = Cost(train, ['house_age','total_rooms'], np.array([0.58, 0.28, 0.0])), s = 100, c = 'r')\n",
    "plt.xlabel('house_age')\n",
    "plt.ylabel('total_rooms')"
   ]
  },
  {
   "cell_type": "markdown",
   "metadata": {},
   "source": [
    "## 梯度法"
   ]
  },
  {
   "cell_type": "code",
   "execution_count": 83,
   "metadata": {},
   "outputs": [
    {
     "data": {
      "text/plain": [
       "array([-0.38409504, -0.05201841, -0.68356494])"
      ]
     },
     "execution_count": 83,
     "metadata": {},
     "output_type": "execute_result"
    }
   ],
   "source": [
    "def gradient(train, features, pars):\n",
    "    #zeros(shape, dtype=float, order='C')，返回来一个给定形状和类型的用0填充的数组\n",
    "    Gradient = np.zeros(len(pars))\n",
    "    for i in range(len(pars)):\n",
    "        pars_new = pars.copy()\n",
    "        pars_new[i] += 0.01\n",
    "        Gradient[i] = (Cost(train, features, pars_new) - Cost(train, features, pars))/0.01\n",
    "        #print (Cost(train, features, pars))\n",
    "    return Gradient\n",
    "gradient(train, ['house_age','total_rooms'], [0.1, 0.1, 0])"
   ]
  },
  {
   "cell_type": "code",
   "execution_count": 84,
   "metadata": {},
   "outputs": [],
   "source": [
    "#共迭代epochs=n次，每次pars取值都是沿着梯度方向减少pars - grad*lr（grad*lr为负值，减少负值意味着实际是增加），求出每次对应的Cost\n",
    "def GradientDescent(data, epochs, lr, features, pars):\n",
    "    Costs = []\n",
    "    for i in range(epochs):\n",
    "        grad = gradient(data, features, pars)\n",
    "        if i%50 ==  0:\n",
    "            Costs.append(Cost(data, features, pars))\n",
    "        pars -= grad*lr #pars = pars - grad*lr，pars每个分量单独增加0.01，Cost变小，grad整体向下，说明pars各个参数可以增大一点，继续迭代\n",
    "    print ('w = ', pars)\n",
    "    print ('grad =', grad)\n",
    "    return pars, Costs\n",
    "\n",
    "\n",
    "        "
   ]
  },
  {
   "cell_type": "code",
   "execution_count": 85,
   "metadata": {},
   "outputs": [
    {
     "name": "stdout",
     "output_type": "stream",
     "text": [
      "w =  [0.22802374 0.12231864 0.24276467]\n",
      "grad = [-0.01793567 -0.00946891 -0.05265492]\n"
     ]
    }
   ],
   "source": [
    "pars, Costs = GradientDescent(train, 500, 0.002, ['house_age','total_rooms'], [0.1, 0.1, 0])"
   ]
  },
  {
   "cell_type": "markdown",
   "metadata": {},
   "source": [
    "pars增加0.01，梯度整体方向朝下，意味着Costs为负值，表示Costs减小，所以pars则可以继续微微增加，即pars = pars - grad*lr为何这儿不是加号一目了然；当pars取到靠近Costs值最小附近，grad趋于（0， 0， 0）， grad*lr趋于0，则pars随着继续迭代，变化微乎其微，则Costs趋于一个稳定值"
   ]
  },
  {
   "cell_type": "markdown",
   "metadata": {},
   "source": [
    "查看梯度下降的方向"
   ]
  },
  {
   "cell_type": "code",
   "execution_count": 86,
   "metadata": {},
   "outputs": [
    {
     "data": {
      "text/plain": [
       "Text(0, 0.5, 'cost')"
      ]
     },
     "execution_count": 86,
     "metadata": {},
     "output_type": "execute_result"
    },
    {
     "data": {
      "image/png": "[encoded data removed]",
      "text/plain": [
       "<Figure size 432x288 with 1 Axes>"
      ]
     },
     "metadata": {
      "needs_background": "light"
     },
     "output_type": "display_data"
    }
   ],
   "source": [
    "plt.plot(Costs)\n",
    "plt.xlabel('time')\n",
    "plt.ylabel('cost')"
   ]
  },
  {
   "cell_type": "code",
   "execution_count": 87,
   "metadata": {},
   "outputs": [
    {
     "name": "stdout",
     "output_type": "stream",
     "text": [
      "w =  [0.22840177 0.12962287 0.26424721]\n",
      "grad = [ 0.00688502 -0.00633186 -0.00802107]\n"
     ]
    }
   ],
   "source": [
    "pars, Costs = GradientDescent(train, 1000, 0.002, ['house_age','total_rooms'], [0.1, 0.1, 0])"
   ]
  },
  {
   "cell_type": "markdown",
   "metadata": {},
   "source": [
    "查看梯度下降的方向"
   ]
  },
  {
   "cell_type": "code",
   "execution_count": 88,
   "metadata": {},
   "outputs": [
    {
     "data": {
      "text/plain": [
       "Text(0, 0.5, 'cost')"
      ]
     },
     "execution_count": 88,
     "metadata": {},
     "output_type": "execute_result"
    },
    {
     "data": {
      "image/png": "[encoded data removed]",
      "text/plain": [
       "<Figure size 432x288 with 1 Axes>"
      ]
     },
     "metadata": {
      "needs_background": "light"
     },
     "output_type": "display_data"
    }
   ],
   "source": [
    "plt.plot(Costs)\n",
    "plt.xlabel('time')\n",
    "plt.ylabel('cost')"
   ]
  },
  {
   "cell_type": "code",
   "execution_count": 70,
   "metadata": {},
   "outputs": [
    {
     "name": "stdout",
     "output_type": "stream",
     "text": [
      "w =  [0.19592222 0.11483044 0.17636317]\n",
      "grad = [-0.13128943 -0.0236875  -0.25091684]\n"
     ]
    }
   ],
   "source": [
    "pars, Costs = GradientDescent(train, 200, 0.002, ['house_age','total_rooms'], [0.1, 0.1, 0])"
   ]
  },
  {
   "cell_type": "markdown",
   "metadata": {},
   "source": [
    "查看梯度下降的方向"
   ]
  },
  {
   "cell_type": "code",
   "execution_count": 71,
   "metadata": {},
   "outputs": [
    {
     "data": {
      "text/plain": [
       "Text(0, 0.5, 'cost')"
      ]
     },
     "execution_count": 71,
     "metadata": {},
     "output_type": "execute_result"
    },
    {
     "data": {
      "image/png": "[encoded data removed]",
      "text/plain": [
       "<Figure size 432x288 with 1 Axes>"
      ]
     },
     "metadata": {
      "needs_background": "light"
     },
     "output_type": "display_data"
    }
   ],
   "source": [
    "plt.plot(Costs)\n",
    "plt.xlabel('time')\n",
    "plt.ylabel('cost')"
   ]
  },
  {
   "cell_type": "code",
   "execution_count": 64,
   "metadata": {},
   "outputs": [
    {
     "name": "stdout",
     "output_type": "stream",
     "text": [
      "w =  [ 1.65664358e+14 -1.73094445e+14  4.38604370e+13]\n",
      "grad = [0. 0. 0.]\n"
     ]
    }
   ],
   "source": [
    "pars, Costs = GradientDescent(train, 500, 0.8, ['house_age','total_rooms'], [0.1, 0.1, 0])"
   ]
  },
  {
   "cell_type": "markdown",
   "metadata": {},
   "source": [
    "查看梯度下降的方向"
   ]
  },
  {
   "cell_type": "code",
   "execution_count": 65,
   "metadata": {},
   "outputs": [
    {
     "data": {
      "text/plain": [
       "Text(0, 0.5, 'cost')"
      ]
     },
     "execution_count": 65,
     "metadata": {},
     "output_type": "execute_result"
    },
    {
     "data": {
      "image/png": "[encoded data removed]",
      "text/plain": [
       "<Figure size 432x288 with 1 Axes>"
      ]
     },
     "metadata": {
      "needs_background": "light"
     },
     "output_type": "display_data"
    }
   ],
   "source": [
    "plt.plot(Costs)\n",
    "plt.xlabel('time')\n",
    "plt.ylabel('cost')"
   ]
  },
  {
   "cell_type": "code",
   "execution_count": 66,
   "metadata": {},
   "outputs": [
    {
     "name": "stdout",
     "output_type": "stream",
     "text": [
      "w =  [0.20271738 0.74205173 0.25203466]\n",
      "grad = [-0.00010553 -0.00103593  0.00013325]\n"
     ]
    }
   ],
   "source": [
    "pars, Costs = GradientDescent(train, 500, 0.5, ['house_age','total_rooms'], [0.1, 0.1, 0])"
   ]
  },
  {
   "cell_type": "markdown",
   "metadata": {},
   "source": [
    "查看梯度下降的方向"
   ]
  },
  {
   "cell_type": "code",
   "execution_count": 67,
   "metadata": {},
   "outputs": [
    {
     "data": {
      "text/plain": [
       "Text(0, 0.5, 'cost')"
      ]
     },
     "execution_count": 67,
     "metadata": {},
     "output_type": "execute_result"
    },
    {
     "data": {
      "image/png": "[encoded data removed]",
      "text/plain": [
       "<Figure size 432x288 with 1 Axes>"
      ]
     },
     "metadata": {
      "needs_background": "light"
     },
     "output_type": "display_data"
    }
   ],
   "source": [
    "plt.plot(Costs)\n",
    "plt.xlabel('time')\n",
    "plt.ylabel('cost')"
   ]
  },
  {
   "cell_type": "markdown",
   "metadata": {},
   "source": [
    "# 预测和模型评估"
   ]
  },
  {
   "cell_type": "markdown",
   "metadata": {},
   "source": [
    "用学习出来的模型做预测"
   ]
  },
  {
   "cell_type": "code",
   "execution_count": 90,
   "metadata": {},
   "outputs": [
    {
     "name": "stdout",
     "output_type": "stream",
     "text": [
      "0.05142924542980133\n"
     ]
    }
   ],
   "source": [
    "cost = Cost(train, ['house_age','total_rooms'], pars)\n",
    "print (cost)"
   ]
  },
  {
   "cell_type": "code",
   "execution_count": 93,
   "metadata": {},
   "outputs": [
    {
     "name": "stdout",
     "output_type": "stream",
     "text": [
      "MSE train: 0.051 \n"
     ]
    },
    {
     "data": {
      "text/html": [
       "<div>\n",
       "<style scoped>\n",
       "    .dataframe tbody tr th:only-of-type {\n",
       "        vertical-align: middle;\n",
       "    }\n",
       "\n",
       "    .dataframe tbody tr th {\n",
       "        vertical-align: top;\n",
       "    }\n",
       "\n",
       "    .dataframe thead th {\n",
       "        text-align: right;\n",
       "    }\n",
       "</style>\n",
       "<table border=\"1\" class=\"dataframe\">\n",
       "  <thead>\n",
       "    <tr style=\"text-align: right;\">\n",
       "      <th></th>\n",
       "      <th>house_age</th>\n",
       "      <th>total_rooms</th>\n",
       "      <th>house_value</th>\n",
       "      <th>predict</th>\n",
       "    </tr>\n",
       "  </thead>\n",
       "  <tbody>\n",
       "    <tr>\n",
       "      <th>8147</th>\n",
       "      <td>0.384615</td>\n",
       "      <td>0.121254</td>\n",
       "      <td>1.000000</td>\n",
       "      <td>0.367811</td>\n",
       "    </tr>\n",
       "    <tr>\n",
       "      <th>9747</th>\n",
       "      <td>0.326923</td>\n",
       "      <td>0.033740</td>\n",
       "      <td>0.212600</td>\n",
       "      <td>0.343291</td>\n",
       "    </tr>\n",
       "    <tr>\n",
       "      <th>8135</th>\n",
       "      <td>0.807692</td>\n",
       "      <td>0.034083</td>\n",
       "      <td>0.935198</td>\n",
       "      <td>0.453143</td>\n",
       "    </tr>\n",
       "    <tr>\n",
       "      <th>6309</th>\n",
       "      <td>0.673077</td>\n",
       "      <td>0.037035</td>\n",
       "      <td>0.179600</td>\n",
       "      <td>0.422780</td>\n",
       "    </tr>\n",
       "    <tr>\n",
       "      <th>11659</th>\n",
       "      <td>0.500000</td>\n",
       "      <td>0.004244</td>\n",
       "      <td>0.324999</td>\n",
       "      <td>0.378998</td>\n",
       "    </tr>\n",
       "  </tbody>\n",
       "</table>\n",
       "</div>"
      ],
      "text/plain": [
       "       house_age  total_rooms  house_value   predict\n",
       "8147    0.384615     0.121254     1.000000  0.367811\n",
       "9747    0.326923     0.033740     0.212600  0.343291\n",
       "8135    0.807692     0.034083     0.935198  0.453143\n",
       "6309    0.673077     0.037035     0.179600  0.422780\n",
       "11659   0.500000     0.004244     0.324999  0.378998"
      ]
     },
     "execution_count": 93,
     "metadata": {},
     "output_type": "execute_result"
    }
   ],
   "source": [
    "from sklearn.metrics import mean_squared_error\n",
    "train['predict'] = linear(train[['house_age','total_rooms']].values, pars)\n",
    "print ('MSE train: %.3f ' % (mean_squared_error(train['house_value'], train['predict'])))\n",
    "train.head()"
   ]
  },
  {
   "cell_type": "code",
   "execution_count": 96,
   "metadata": {},
   "outputs": [
    {
     "name": "stdout",
     "output_type": "stream",
     "text": [
      "MSE test: 0.054\n"
     ]
    },
    {
     "data": {
      "text/html": [
       "<div>\n",
       "<style scoped>\n",
       "    .dataframe tbody tr th:only-of-type {\n",
       "        vertical-align: middle;\n",
       "    }\n",
       "\n",
       "    .dataframe tbody tr th {\n",
       "        vertical-align: top;\n",
       "    }\n",
       "\n",
       "    .dataframe thead th {\n",
       "        text-align: right;\n",
       "    }\n",
       "</style>\n",
       "<table border=\"1\" class=\"dataframe\">\n",
       "  <thead>\n",
       "    <tr style=\"text-align: right;\">\n",
       "      <th></th>\n",
       "      <th>house_age</th>\n",
       "      <th>total_rooms</th>\n",
       "      <th>house_value</th>\n",
       "      <th>predict</th>\n",
       "    </tr>\n",
       "  </thead>\n",
       "  <tbody>\n",
       "    <tr>\n",
       "      <th>397</th>\n",
       "      <td>0.673077</td>\n",
       "      <td>0.045786</td>\n",
       "      <td>0.318399</td>\n",
       "      <td>0.423914</td>\n",
       "    </tr>\n",
       "    <tr>\n",
       "      <th>15236</th>\n",
       "      <td>1.000000</td>\n",
       "      <td>0.059362</td>\n",
       "      <td>0.743999</td>\n",
       "      <td>0.500344</td>\n",
       "    </tr>\n",
       "    <tr>\n",
       "      <th>14469</th>\n",
       "      <td>0.557692</td>\n",
       "      <td>0.158869</td>\n",
       "      <td>0.922398</td>\n",
       "      <td>0.412218</td>\n",
       "    </tr>\n",
       "    <tr>\n",
       "      <th>3790</th>\n",
       "      <td>0.673077</td>\n",
       "      <td>0.036244</td>\n",
       "      <td>0.303599</td>\n",
       "      <td>0.422677</td>\n",
       "    </tr>\n",
       "    <tr>\n",
       "      <th>1094</th>\n",
       "      <td>0.557692</td>\n",
       "      <td>0.027414</td>\n",
       "      <td>0.166400</td>\n",
       "      <td>0.395179</td>\n",
       "    </tr>\n",
       "  </tbody>\n",
       "</table>\n",
       "</div>"
      ],
      "text/plain": [
       "       house_age  total_rooms  house_value   predict\n",
       "397     0.673077     0.045786     0.318399  0.423914\n",
       "15236   1.000000     0.059362     0.743999  0.500344\n",
       "14469   0.557692     0.158869     0.922398  0.412218\n",
       "3790    0.673077     0.036244     0.303599  0.422677\n",
       "1094    0.557692     0.027414     0.166400  0.395179"
      ]
     },
     "execution_count": 96,
     "metadata": {},
     "output_type": "execute_result"
    }
   ],
   "source": [
    "test['predict'] = linear(test[['house_age','total_rooms']].values, pars)\n",
    "print('MSE test: %.3f' %(mean_squared_error(test['house_value'], test['predict'])))\n",
    "test.head()"
   ]
  },
  {
   "cell_type": "markdown",
   "metadata": {},
   "source": [
    "# 如何做的更好"
   ]
  },
  {
   "cell_type": "markdown",
   "metadata": {},
   "source": [
    "把之前的模型封装成一个类"
   ]
  },
  {
   "cell_type": "code",
   "execution_count": null,
   "metadata": {},
   "outputs": [],
   "source": [
    "class LinearRegressionGD(object):\n",
    "    def __init__(self, eta = 0.001, n_iter = 20):\n",
    "        self.eta = eta #学习速率\n",
    "        self.n_iter = n_iter\n",
    "        \n",
    "    def fit(self, X, y):\n",
    "        self.w_ = np.zeros(1 + X.shape[1])\n",
    "        self.cost_ = []\n",
    "        \n",
    "        for i in range(self.n_iter):\n",
    "            output = self.net_input(X)\n",
    "            errors = (y - output)\n",
    "            self.w_[:-1] += self.eta * X.T.dot(errors) #x.T.dot(...)是先求这个矩阵x的转置（.T），再求与点积(.dot)\n",
    "            self.w_[-1] += self.eta * errors.sum()\n",
    "            cost = (errors**2).sum() / 2.0 #还未理解代价函数这儿为何除以2?\n",
    "            self.cost_.append(cost)\n",
    "        return self\n",
    "    \n",
    "    def net_input(self, X): \n",
    "        #dot()返回的是两个数组的点积;a.dot(b) 与 np.dot(a,b)效果相同\n",
    "        return np.dot(X, self.w_[:-1]) + self.w_[-1]\n",
    "    \n",
    "    def predict(self, X):\n",
    "        return self.net_input(X)\n",
    "        "
   ]
  },
  {
   "cell_type": "markdown",
   "metadata": {},
   "source": [
    "解释：上述X = [[x11, x12],[x21, x22],[x31, x32]...]"
   ]
  },
  {
   "cell_type": "markdown",
   "metadata": {},
   "source": [
    "如下知识，帮助理解numpy.array()和.shape[i]的用法"
   ]
  },
  {
   "cell_type": "code",
   "execution_count": 118,
   "metadata": {},
   "outputs": [
    {
     "name": "stdout",
     "output_type": "stream",
     "text": [
      "(1,)\n",
      "1\n",
      "(2,)\n",
      "2\n",
      "(1, 2)\n",
      "1\n",
      "2\n",
      "(3, 2)\n",
      "(1, 1, 3)\n",
      "(2, 1, 3)\n"
     ]
    }
   ],
   "source": [
    "import numpy as np\n",
    "y = np.array([1])\n",
    "s = np.array([1, 2])\n",
    "t0 = np.array([[1, 2]])\n",
    "t1 = np.array([[1, 2], [3, 4], [5, 6]])\n",
    "t2 = np.array([[[1, 2, 3]]])\n",
    "t3 = np.array([[[1, 2, 3]],[[1, 2 ,4]]]) #2, 1, 3\n",
    "#x = np.array([[1, 2, 3], [4, 5, 6], [3, 2, 1], [4, 3, 6]])\n",
    "#x3 = np.array([[[1, 2, 3], [4, 5, 6], [3, 2, 1], [4, 3, 6]], [[1, 2, 3], [4, 5, 6], [3, 2, 1], [4, 3, 6]]])\n",
    "\n",
    "\n",
    "\n",
    "print (y.shape)\n",
    "print (y.shape[0])\n",
    "print (s.shape)\n",
    "print (s.shape[0])\n",
    "print (t0.shape)\n",
    "print (t0.shape[0])\n",
    "print (t0.shape[1])\n",
    "print (t1.shape)\n",
    "print (t2.shape)\n",
    "print (t3.shape)\n",
    "#print (x.shape)\n",
    "#print (x1.shape)\n"
   ]
  },
  {
   "cell_type": "markdown",
   "metadata": {},
   "source": [
    "# 总结：\n",
    "初级机器学习算法的类，包括以下：\n",
    "a. 初始化：属性包括学习速率和循环次数\n",
    "b. 如何使用梯度下降求解参数\n",
    "c. 测试"
   ]
  },
  {
   "cell_type": "markdown",
   "metadata": {},
   "source": [
    "## 增加其他特征，课程中数据表格里有区域，将区域转换成一个数字，每个区域就是一个特征"
   ]
  },
  {
   "cell_type": "code",
   "execution_count": null,
   "metadata": {},
   "outputs": [],
   "source": [
    "data_select = pd.get_dummies(data_select) #将代表区域的字符串转换成数字\n",
    "train, test = train_test_split(data_select.copy(), test_size = 0.9)\n",
    "train_ = train.copy()\n",
    "train_y = train_.pop('house_value')\n",
    "train_x = train_\n",
    "\n",
    "test_ = test.copy()\n",
    "test_y = test_.pop('house_value')\n",
    "test_x = test_\n",
    "\n",
    "train_x.head()\n",
    "\n"
   ]
  },
  {
   "cell_type": "code",
   "execution_count": null,
   "metadata": {},
   "outputs": [],
   "source": [
    "lr = LinearRegressionGD( n_iter = 1000)\n",
    "lr.fit(train_x.values, train_y.values)"
   ]
  },
  {
   "cell_type": "code",
   "execution_count": null,
   "metadata": {},
   "outputs": [],
   "source": [
    "lr.w_\n",
    "#获得参数"
   ]
  },
  {
   "cell_type": "code",
   "execution_count": null,
   "metadata": {},
   "outputs": [],
   "source": [
    "from sklearn.metric import mean_squared_error\n",
    "train['predict'] = lr.predict(train_x.values)"
   ]
  },
  {
   "cell_type": "code",
   "execution_count": null,
   "metadata": {},
   "outputs": [],
   "source": [
    "print('MSE train: %.3f' % (mean_squared_error(train_y, train['predict'])))\n",
    "train.head()"
   ]
  },
  {
   "cell_type": "code",
   "execution_count": null,
   "metadata": {},
   "outputs": [],
   "source": [
    "test['predict'] = lr.predict(test_x.values)\n",
    "print('MSE train: %.3f' % (mean_squared_error(test_y, test['predict'])))\n",
    "test.head()"
   ]
  }
 ],
 "metadata": {
  "kernelspec": {
   "display_name": "Python 3",
   "language": "python",
   "name": "python3"
  },
  "language_info": {
   "codemirror_mode": {
    "name": "ipython",
    "version": 3
   },
   "file_extension": ".py",
   "mimetype": "text/x-python",
   "name": "python",
   "nbconvert_exporter": "python",
   "pygments_lexer": "ipython3",
   "version": "3.7.3"
  }
 },
 "nbformat": 4,
 "nbformat_minor": 2
}
