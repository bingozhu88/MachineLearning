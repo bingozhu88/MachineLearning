{
 "cells": [
  {
   "cell_type": "markdown",
   "metadata": {},
   "source": [
    "# 读取Iris数据，绘图"
   ]
  },
  {
   "cell_type": "code",
   "execution_count": 59,
   "metadata": {},
   "outputs": [
    {
     "name": "stdout",
     "output_type": "stream",
     "text": [
      "(150, 5) (150, 5)\n"
     ]
    },
    {
     "data": {
      "image/png": "[encoded data removed]",
      "text/plain": [
       "<Figure size 432x288 with 1 Axes>"
      ]
     },
     "metadata": {
      "needs_background": "light"
     },
     "output_type": "display_data"
    }
   ],
   "source": [
    "#读取Iris数据\n",
    "import pandas as pd\n",
    "import numpy as np\n",
    "import matplotlib.pyplot as plt\n",
    "from IPython.display import Image\n",
    "import warnings\n",
    "warnings.filterwarnings('ignore')\n",
    "\n",
    "#内嵌画图\n",
    "%matplotlib inline\n",
    "\n",
    "df = pd.read_csv('https://archive.ics.uci.edu/ml/machine-learning-databases/iris/iris.data', header = None)\n",
    "#df = pd.read_csv('iris.data', header = None)\n",
    "print (df.shape, df.shape)\n",
    "df.head()\n",
    "#选取前100行，第五列(第五列是分类的正确结果)\n",
    "y = df.iloc[0:100, 4].values\n",
    "y = np.where(y == 'Iris-setosa', -1, 1) ##如果是 Iris-setosa, y=-1,否则就是1 （二元分类）\n",
    "\n",
    "#.iloc[0:100,[0，2]] 读取前100行的 前第0列和第2列的数据，即选取sepal长度petal长度\n",
    "X = df.iloc[0:100, [0, 2]].values\n",
    "#绘图\n",
    "plt.scatter(X[:50,0],X[:50,1],c='red',marker='o',label='setosa')\n",
    "plt.scatter(X[50:100,0],X[50:100,1],c='blue',marker='x',label='versicolor')\n",
    "plt.xlabel('sepal length')\n",
    "plt.ylabel('petal length')\n",
    "plt.legend(loc='upper left')\n",
    "plt.show()"
   ]
  },
  {
   "cell_type": "markdown",
   "metadata": {},
   "source": [
    "## 附Perceptron一段代码\n",
    "理解fit()函数中两个for循环（主要是第二个for循环）：\n",
    "for _ in range(self.n_iter):\n",
    "    errors = 0\n",
    "    for xi, target in zip(X,y):\n",
    "        update = self.eta * (target - self.predict(xi))\n",
    "        self.w_[1:] += update * xi\n",
    "        self.w_[0] += update #更新权值，x0 =1?\n",
    "        errors += int(update != 0.0) #我理解int(True) = 1 int(False) = 0 \n",
    "    self.errors_.append(errors) \n",
    "    \n",
    " 一是第二个for循环是将数据集中数据一组一组输入，update等于0，意味着在当前权重值下，预测结果和真实结果一致；update不等于1，意味着当前权重下，预测结果和真实结果不一致，则需要改变权重，改变量和当前输入数据直接关联起来，即增加：update * xi，继续将改变后的权重值用于下一个数据的预测，不段进行下，直接遍历完所有数据，并统计有多少个结果预测错误\n",
    " 二是errors_记录的是第一个for循环每一次分类错误的数量"
   ]
  },
  {
   "cell_type": "code",
   "execution_count": 60,
   "metadata": {},
   "outputs": [],
   "source": [
    "import numpy as np\n",
    "class Perceptron(object):\n",
    "    \"\"\"\n",
    "    Perceptron classifier.\n",
    "    Parameters(参数)\n",
    "    ------------\n",
    "    eta : float\n",
    "    Learning rate (between 0.0 and 1.0) 学习效率\n",
    "    n_iter : int\n",
    "    Passes over the training dataset(数据集).\n",
    "    Attributes（属性）\n",
    "    -----------\n",
    "    w_ : 1d-array\n",
    "    Weights after fitting.\n",
    "    errors_ : list\n",
    "    Number of misclassifications in every epoch（时间起点）.\n",
    "    \"\"\"\n",
    "    def __init__(self, eta=0.01, n_iter=10):\n",
    "        self.eta = eta\n",
    "        self.n_iter = n_iter\n",
    "    def fit(self, X, y):\n",
    "        '''\n",
    "        Fit training data.\n",
    "        Parameters\n",
    "        ----------\n",
    "        X : {array-like}, shape = [n_samples, n_features] X的形式是列矩阵\n",
    "        Training vectors, where n_samples is the number of samples\n",
    "        and n_features is the number of features.\n",
    "        y : array-like, shape = [n_samples]\n",
    "        Target values.\n",
    "        Returns\n",
    "        -------\n",
    "        self : object\n",
    "        '''\n",
    "\n",
    "        self.w_ = np.zeros(1 + X.shape[1])\n",
    "        # zeros()创建了一个 长度为 1+X.shape[1] = 1+n_features 的 0数组\n",
    "        #初始化权值为0\n",
    "        # self.w_ 权向量\n",
    "        self.errors_ = []\n",
    "        for _ in range(self.n_iter):\n",
    "            errors = 0\n",
    "            for xi, target in zip(X,y):\n",
    "                update = self.eta * (target - self.predict(xi))\n",
    "                self.w_[1:] += update * xi\n",
    "                self.w_[0] += update #更新权值，x0 =1?\n",
    "                errors += int(update != 0.0) #我理解int(True) = 1 int(False) = 0 \n",
    "            self.errors_.append(errors) #每一步的累积误差\n",
    "        return self\n",
    "\n",
    "    def net_input(self, X):\n",
    "        \"\"\"Calculate net input\"\"\"\n",
    "        return (np.dot(X, self.w_[1:])+self.w_[0])\n",
    "\n",
    "    def predict(self, X):\n",
    "        \"\"\"return class label after unit step\"\"\"\n",
    "        return np.where(self.net_input(X) >= 0.0, 1, -1)"
   ]
  },
  {
   "cell_type": "markdown",
   "metadata": {},
   "source": [
    "# 调用perceptron类，进行学习"
   ]
  },
  {
   "cell_type": "code",
   "execution_count": 61,
   "metadata": {},
   "outputs": [
    {
     "data": {
      "image/png": "[encoded data removed]",
      "text/plain": [
       "<Figure size 432x288 with 1 Axes>"
      ]
     },
     "metadata": {
      "needs_background": "light"
     },
     "output_type": "display_data"
    }
   ],
   "source": [
    "#from sklearn.linear_model import Perceptron #Perceptron是一个二元划分的类\n",
    "ppn = Perceptron(eta=0.01, n_iter=10)\n",
    "ppn.fit(X, y)\n",
    "\n",
    "plt.plot(range(1, len(ppn.errors_)+1), ppn.errors_, marker='o')\n",
    "plt.xlabel('Epoches')\n",
    "plt.ylabel('number of misclassification')\n",
    "plt.xlim(1, 10)\n",
    "plt.savefig('Number of misclassification-Epoches.png', bbox_inches = 'tight') #将图片存到本地\n",
    "plt.show()"
   ]
  },
  {
   "cell_type": "markdown",
   "metadata": {},
   "source": [
    "# 可视化"
   ]
  },
  {
   "cell_type": "code",
   "execution_count": 62,
   "metadata": {},
   "outputs": [],
   "source": [
    "import matplotlib.pyplot as plt\n",
    "from matplotlib.colors import ListedColormap\n",
    "\n",
    "#可视化模型预测结果\n",
    "def plot_decision_regions(X, y, classifier, resolution = 0.02):\n",
    "    #setup marker generator and color map(设置标记生成器和颜色映射)\n",
    "    markers = ('o', 'x', 's', '^', 'v')\n",
    "    colors = ('red', 'blue', 'lightgreen', 'gray', 'cyan')\n",
    "    cmap = ListedColormap(colors[:len(np.unique(y))])\n",
    "    #np.unique():对于一维数组或者列表，unique函数去除其中重复的元素，并按元素由大到小返回一个新的无元素重复的元组或者列表\n",
    "    \n",
    "    #plot the decision surface(绘制决策图面)\n",
    "    ## 生成网格数据\n",
    "    ## xx1为横隔线\n",
    "    ## xx2为纵隔线\n",
    "    x1_min, x1_max = X[:, 0].min() - 1, X[:, 0].max() + 1\n",
    "    #print (X[:, 0].min())\n",
    "    x2_min, x2_max = X[:, 1].min() - 1, X[:, 1].max() + 1\n",
    "    #X[:,k] 冒号左边表示行范围，读取所有行，冒号右边表示列范围，读取第K列\n",
    "    xx1, xx2 = np.meshgrid(np.arange(x1_min, x1_max, resolution), np.arange( x2_min, x2_max, resolution))\n",
    "    #print (xx1)\n",
    "    #print (xx1.shape)\n",
    "    #print (xx2)\n",
    "    #print (xx2.shape)\n",
    "    #arange(start,end,step) 返回一个一维数组\n",
    "    #meshgrid(x,y)产生一个以x为行，y为列的矩阵\n",
    "    #xx1是一个(305*235)大小的矩阵 xx1.ravel()是将所有的行放在一个行里面的长度71675的一维数组\n",
    "    Z = classifier.predict(np.array([xx1.ravel(), xx2.ravel()]).T)\n",
    "    #np.array([xx1.ravel(), xx2.ravel()]) 生成了一个 (2*71675)的矩阵\n",
    "    # xx1.ravel() = (1,71675)\n",
    "    Z = Z.reshape(xx1.shape)\n",
    "    \n",
    "    plt.contourf(xx1, xx2, Z, alpha=0.4, cmap=cmap)\n",
    "    #alpha = 0.4 为填充颜色透明度\n",
    "    \n",
    "    plt.xlim(xx1.min(), xx1.max())\n",
    "    plt.ylim(xx2.min(), xx2.max())\n",
    "    \n",
    "    print(np.unique(y))\n",
    "    #若y = [-1 , 1], 则enumerate(y)表示\n",
    "    #0， -1\n",
    "    #1， 1\n",
    "    \"\"\"\n",
    "    \"\"\"\n",
    "    for idx, cl in enumerate(np.unique(y)):\n",
    "        #x=X[y==cl, 0]\n",
    "        #y=X[y==cl, 1]\n",
    "        #print (x)\n",
    "        #print (y)\n",
    "        plt.scatter(x=X[y==cl, 0], y=X[y==cl, 1],\n",
    "                    alpha=0.8, c=cmap(idx),\n",
    "                    marker = markers[idx],label = cl)"
   ]
  },
  {
   "cell_type": "code",
   "execution_count": 63,
   "metadata": {},
   "outputs": [
    {
     "name": "stderr",
     "output_type": "stream",
     "text": [
      "'c' argument looks like a single numeric RGB or RGBA sequence, which should be avoided as value-mapping will have precedence in case its length matches with 'x' & 'y'.  Please use a 2-D array with a single row if you really want to specify the same RGB or RGBA value for all points.\n",
      "'c' argument looks like a single numeric RGB or RGBA sequence, which should be avoided as value-mapping will have precedence in case its length matches with 'x' & 'y'.  Please use a 2-D array with a single row if you really want to specify the same RGB or RGBA value for all points.\n"
     ]
    },
    {
     "name": "stdout",
     "output_type": "stream",
     "text": [
      "[-1  1]\n"
     ]
    },
    {
     "data": {
      "image/png": "[encoded data removed]",
      "text/plain": [
       "<Figure size 432x288 with 1 Axes>"
      ]
     },
     "metadata": {
      "needs_background": "light"
     },
     "output_type": "display_data"
    }
   ],
   "source": [
    "plot_decision_regions(X,y,classifier=ppn)\n",
    "plt.xlabel('sepal length [cm]')\n",
    "plt.ylabel('petal length [cm]')\n",
    "plt.legend(loc = 'upper left')\n",
    "plt.savefig(' decision_regions.png')\n",
    "plt.show()"
   ]
  },
  {
   "cell_type": "markdown",
   "metadata": {},
   "source": [
    "# 应用"
   ]
  },
  {
   "cell_type": "markdown",
   "metadata": {},
   "source": [
    "为了让我们这个神经网络模型的分类效果更明显，我们选取一部分样本作为训练集，另一部分样本作为预测的数据"
   ]
  },
  {
   "cell_type": "code",
   "execution_count": 64,
   "metadata": {},
   "outputs": [
    {
     "name": "stderr",
     "output_type": "stream",
     "text": [
      "'c' argument looks like a single numeric RGB or RGBA sequence, which should be avoided as value-mapping will have precedence in case its length matches with 'x' & 'y'.  Please use a 2-D array with a single row if you really want to specify the same RGB or RGBA value for all points.\n",
      "'c' argument looks like a single numeric RGB or RGBA sequence, which should be avoided as value-mapping will have precedence in case its length matches with 'x' & 'y'.  Please use a 2-D array with a single row if you really want to specify the same RGB or RGBA value for all points.\n"
     ]
    },
    {
     "name": "stdout",
     "output_type": "stream",
     "text": [
      "[-1  1]\n"
     ]
    },
    {
     "data": {
      "image/png": "[encoded data removed]",
      "text/plain": [
       "<Figure size 432x288 with 1 Axes>"
      ]
     },
     "metadata": {
      "needs_background": "light"
     },
     "output_type": "display_data"
    }
   ],
   "source": [
    "#更改训练集\n",
    "\n",
    "y1 = df.iloc[0:30, 4].values\n",
    "x1 = df.iloc[0:30,[0,2]]\n",
    "y2 = df.iloc[80:100, 4].values\n",
    "x2 = df.iloc[80:100, [0,2]]\n",
    "\n",
    "y = np.hstack((y1, y2))\n",
    "X= np.vstack((x1, x2))\n",
    "y = np.where(y == 'Iris-setosa', -1, 1)\n",
    "X2 = df.iloc[30:60, [0,2]].values\n",
    "\n",
    "#抓取30个第一类花的样本以及20个第二类花的样本组成的训练集训练\n",
    "ppn = Perceptron(eta = 0.01, n_iter = 10)\n",
    "ppn.fit(X, y) #训练\n",
    "\n",
    "#预测，x2用作测试集，包括20个是第一类花的样本和10个第二类花的样本\n",
    "plot_decision_regions(X,y, classifier=ppn)\n",
    "plt.scatter(X2[0:20, 0], X2[0:20, 1], c = 'g')\n",
    "plt.scatter(X2[20:30, 0], X2[20:30, 1], c = 'w')\n",
    "plt.xlabel('sepal length [cm]')\n",
    "plt.ylabel('petal length [cm]')\n",
    "plt.legend(loc = 'upper left')\n",
    "plt.show()\n",
    "\n",
    "\n"
   ]
  },
  {
   "cell_type": "code",
   "execution_count": null,
   "metadata": {},
   "outputs": [],
   "source": []
  }
 ],
 "metadata": {
  "kernelspec": {
   "display_name": "Python 3",
   "language": "python",
   "name": "python3"
  },
  "language_info": {
   "codemirror_mode": {
    "name": "ipython",
    "version": 3
   },
   "file_extension": ".py",
   "mimetype": "text/x-python",
   "name": "python",
   "nbconvert_exporter": "python",
   "pygments_lexer": "ipython3",
   "version": "3.7.3"
  }
 },
 "nbformat": 4,
 "nbformat_minor": 2
}
