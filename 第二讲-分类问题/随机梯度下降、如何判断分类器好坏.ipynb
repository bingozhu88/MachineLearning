{
 "cells": [
  {
   "cell_type": "markdown",
   "metadata": {},
   "source": [
    "True Positive(真正, TP)：将正类预测为正类数.\n",
    "True Negative(真负 , TN)：将负类预测为负类数.\n",
    "False Positive(假正, FP)：将负类预测为正类数 → 误报 (Type I error).\n",
    "False Negative(假负 , FN)：将正类预测为负类数 → 漏报 (Type II error)\n",
    "准确率：\n",
    "（TP + TN）/(TP + TN + FP + FN)\n",
    "精确率:\n",
    "TP/(TP + FP)\n",
    "召回率：\n",
    "TP/(TP + FN)"
   ]
  }
 ],
 "metadata": {
  "kernelspec": {
   "display_name": "Python 3",
   "language": "python",
   "name": "python3"
  },
  "language_info": {
   "codemirror_mode": {
    "name": "ipython",
    "version": 3
   },
   "file_extension": ".py",
   "mimetype": "text/x-python",
   "name": "python",
   "nbconvert_exporter": "python",
   "pygments_lexer": "ipython3",
   "version": "3.7.3"
  }
 },
 "nbformat": 4,
 "nbformat_minor": 2
}
