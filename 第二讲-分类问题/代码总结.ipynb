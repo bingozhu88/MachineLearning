{
 "cells": [
  {
   "cell_type": "markdown",
   "metadata": {},
   "source": [
    "# 绘图"
   ]
  },
  {
   "cell_type": "code",
   "execution_count": null,
   "metadata": {},
   "outputs": [],
   "source": [
    "import matplotlib as plt\n",
    "\n",
    "plt.scatter(X, Y, alpha = 'Axxx', c = 'Bxxx', marker = 'Cxxx',  label =  'Dxxx')"
   ]
  },
  {
   "cell_type": "markdown",
   "metadata": {},
   "source": [
    "将数组（X和Y均为一维数组）在二维平面坐标上绘制，scatter（）的括号中X和Y应该是必须的，其他参数可选可调， alpha是填充颜色透明度，c是选择颜色参数，marker是表示某个数据的标记符号（比如圆点或者*号或者x号），label表示标记符号对应的含义（真实数据映射后的含义）"
   ]
  }
 ],
 "metadata": {
  "kernelspec": {
   "display_name": "Python 3",
   "language": "python",
   "name": "python3"
  },
  "language_info": {
   "codemirror_mode": {
    "name": "ipython",
    "version": 3
   },
   "file_extension": ".py",
   "mimetype": "text/x-python",
   "name": "python",
   "nbconvert_exporter": "python",
   "pygments_lexer": "ipython3",
   "version": "3.7.3"
  }
 },
 "nbformat": 4,
 "nbformat_minor": 2
}
