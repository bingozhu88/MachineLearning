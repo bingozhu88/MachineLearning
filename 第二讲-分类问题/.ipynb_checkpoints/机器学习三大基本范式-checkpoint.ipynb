{
 "cells": [
  {
   "cell_type": "markdown",
   "metadata": {},
   "source": [
    "# 分类问题"
   ]
  },
  {
   "cell_type": "markdown",
   "metadata": {},
   "source": [
    "机器学习最大的一个分支问题？\n",
    "监督学习(supervised learning)；\n",
    "非监督学习(unsupervised learning)；\n",
    "强化学习(reinforcement learning)；\n",
    "各有特点，共同点是利用数据，不断迭代；\n",
    "监督学习：有答案的学习，有导师的学习，做一道题，和答案对齐，改进；\n",
    "非监督学习：根据一定的假设寻找数据内部的结构；分类，可能没有标准的答案，比如一系列房子数据，只有房间数量、面积等，但是没有价格；在实际应用中，用算法将数据分类，从中发现一些规律，然后根据分类，选择不同的策略；\n",
    "强化学习：延迟满足，根据结果调整行为"
   ]
  },
  {
   "cell_type": "code",
   "execution_count": null,
   "metadata": {},
   "outputs": [],
   "source": [
    "强化学习和监督学习区别：\n",
    "强化学习：是一个延迟的反馈，不是一个及时的反馈\n",
    "监督学习做的是预测，强化学习做的是决策，不一定需要立即做对，但是最终要达成目的"
   ]
  },
  {
   "cell_type": "code",
   "execution_count": null,
   "metadata": {},
   "outputs": [],
   "source": []
  }
 ],
 "metadata": {
  "kernelspec": {
   "display_name": "Python 3",
   "language": "python",
   "name": "python3"
  },
  "language_info": {
   "codemirror_mode": {
    "name": "ipython",
    "version": 3
   },
   "file_extension": ".py",
   "mimetype": "text/x-python",
   "name": "python",
   "nbconvert_exporter": "python",
   "pygments_lexer": "ipython3",
   "version": "3.7.3"
  }
 },
 "nbformat": 4,
 "nbformat_minor": 2
}
